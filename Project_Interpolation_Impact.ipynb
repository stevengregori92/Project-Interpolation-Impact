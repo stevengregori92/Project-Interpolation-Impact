{
  "cells": [
    {
      "cell_type": "markdown",
      "metadata": {
        "id": "view-in-github",
        "colab_type": "text"
      },
      "source": [
        "<a href=\"https://colab.research.google.com/github/stevengregori92/Project-Interpolation-Impact/blob/main/Project_Interpolation_Impact.ipynb\" target=\"_parent\"><img src=\"https://colab.research.google.com/assets/colab-badge.svg\" alt=\"Open In Colab\"/></a>"
      ]
    },
    {
      "cell_type": "markdown",
      "id": "39c877c9",
      "metadata": {
        "id": "39c877c9"
      },
      "source": [
        "# Project - Measure Interpolation Impact"
      ]
    },
    {
      "cell_type": "markdown",
      "id": "26869a35",
      "metadata": {
        "id": "26869a35"
      },
      "source": [
        "![Data Science Workflow](img/ds-workflow.png)"
      ]
    },
    {
      "cell_type": "markdown",
      "id": "07fd08f8",
      "metadata": {
        "id": "07fd08f8"
      },
      "source": [
        "## Goal of Project\n",
        "- The goal of the project is to see how big impact interpolation can have on results.\n",
        "- The focus is mainly on step 2.\n",
        "- To see the impact we will make simple model usages.\n",
        "- The project will not go into details of steps 3 to 5."
      ]
    },
    {
      "cell_type": "markdown",
      "id": "77f362c4",
      "metadata": {
        "id": "77f362c4"
      },
      "source": [
        "## Step 1: Acquire\n",
        "- Explore problem\n",
        "- Identify data\n",
        "- Import data"
      ]
    },
    {
      "cell_type": "markdown",
      "id": "6f8cbbcb",
      "metadata": {
        "id": "6f8cbbcb"
      },
      "source": [
        "### Step 1.a: Import libraries\n",
        "- Execute the cell below (SHIFT + ENTER)"
      ]
    },
    {
      "cell_type": "code",
      "execution_count": null,
      "id": "b1663203",
      "metadata": {
        "id": "b1663203"
      },
      "outputs": [],
      "source": [
        "import numpy as np\n",
        "import pandas as pd\n",
        "from sklearn.linear_model import LinearRegression\n",
        "from sklearn.model_selection import train_test_split\n",
        "from sklearn.metrics import r2_score"
      ]
    },
    {
      "cell_type": "markdown",
      "id": "b5f9a799",
      "metadata": {
        "id": "b5f9a799"
      },
      "source": [
        "### Step 1.b: Read the data\n",
        "- Use ```pd.read_parquet()``` to read the file `files/weather-predict.parquet`\n",
        "- NOTE: Remember to assign the result to a variable (e.g., ```data```)\n",
        "- Apply ```.head()``` on the data to see all is as expected"
      ]
    },
    {
      "cell_type": "code",
      "execution_count": null,
      "id": "8df39d7c",
      "metadata": {
        "colab": {
          "base_uri": "https://localhost:8080/",
          "height": 238
        },
        "id": "8df39d7c",
        "outputId": "b6f83964-bf6c-4387-c179-77b7cf1611c7"
      },
      "outputs": [
        {
          "output_type": "execute_result",
          "data": {
            "text/plain": [
              "                     Pressure  Pressure+24h\n",
              "Datetime                                   \n",
              "2006-04-01 00:00:00   1015.13       1015.68\n",
              "2006-04-01 01:00:00   1015.63       1015.41\n",
              "2006-04-01 02:00:00   1015.94       1014.98\n",
              "2006-04-01 03:00:00   1016.41       1015.18\n",
              "2006-04-01 04:00:00   1016.51       1014.70"
            ],
            "text/html": [
              "\n",
              "  <div id=\"df-bd304866-e713-4fb0-90cc-68314e0bbc6f\">\n",
              "    <div class=\"colab-df-container\">\n",
              "      <div>\n",
              "<style scoped>\n",
              "    .dataframe tbody tr th:only-of-type {\n",
              "        vertical-align: middle;\n",
              "    }\n",
              "\n",
              "    .dataframe tbody tr th {\n",
              "        vertical-align: top;\n",
              "    }\n",
              "\n",
              "    .dataframe thead th {\n",
              "        text-align: right;\n",
              "    }\n",
              "</style>\n",
              "<table border=\"1\" class=\"dataframe\">\n",
              "  <thead>\n",
              "    <tr style=\"text-align: right;\">\n",
              "      <th></th>\n",
              "      <th>Pressure</th>\n",
              "      <th>Pressure+24h</th>\n",
              "    </tr>\n",
              "    <tr>\n",
              "      <th>Datetime</th>\n",
              "      <th></th>\n",
              "      <th></th>\n",
              "    </tr>\n",
              "  </thead>\n",
              "  <tbody>\n",
              "    <tr>\n",
              "      <th>2006-04-01 00:00:00</th>\n",
              "      <td>1015.13</td>\n",
              "      <td>1015.68</td>\n",
              "    </tr>\n",
              "    <tr>\n",
              "      <th>2006-04-01 01:00:00</th>\n",
              "      <td>1015.63</td>\n",
              "      <td>1015.41</td>\n",
              "    </tr>\n",
              "    <tr>\n",
              "      <th>2006-04-01 02:00:00</th>\n",
              "      <td>1015.94</td>\n",
              "      <td>1014.98</td>\n",
              "    </tr>\n",
              "    <tr>\n",
              "      <th>2006-04-01 03:00:00</th>\n",
              "      <td>1016.41</td>\n",
              "      <td>1015.18</td>\n",
              "    </tr>\n",
              "    <tr>\n",
              "      <th>2006-04-01 04:00:00</th>\n",
              "      <td>1016.51</td>\n",
              "      <td>1014.70</td>\n",
              "    </tr>\n",
              "  </tbody>\n",
              "</table>\n",
              "</div>\n",
              "      <button class=\"colab-df-convert\" onclick=\"convertToInteractive('df-bd304866-e713-4fb0-90cc-68314e0bbc6f')\"\n",
              "              title=\"Convert this dataframe to an interactive table.\"\n",
              "              style=\"display:none;\">\n",
              "        \n",
              "  <svg xmlns=\"http://www.w3.org/2000/svg\" height=\"24px\"viewBox=\"0 0 24 24\"\n",
              "       width=\"24px\">\n",
              "    <path d=\"M0 0h24v24H0V0z\" fill=\"none\"/>\n",
              "    <path d=\"M18.56 5.44l.94 2.06.94-2.06 2.06-.94-2.06-.94-.94-2.06-.94 2.06-2.06.94zm-11 1L8.5 8.5l.94-2.06 2.06-.94-2.06-.94L8.5 2.5l-.94 2.06-2.06.94zm10 10l.94 2.06.94-2.06 2.06-.94-2.06-.94-.94-2.06-.94 2.06-2.06.94z\"/><path d=\"M17.41 7.96l-1.37-1.37c-.4-.4-.92-.59-1.43-.59-.52 0-1.04.2-1.43.59L10.3 9.45l-7.72 7.72c-.78.78-.78 2.05 0 2.83L4 21.41c.39.39.9.59 1.41.59.51 0 1.02-.2 1.41-.59l7.78-7.78 2.81-2.81c.8-.78.8-2.07 0-2.86zM5.41 20L4 18.59l7.72-7.72 1.47 1.35L5.41 20z\"/>\n",
              "  </svg>\n",
              "      </button>\n",
              "      \n",
              "  <style>\n",
              "    .colab-df-container {\n",
              "      display:flex;\n",
              "      flex-wrap:wrap;\n",
              "      gap: 12px;\n",
              "    }\n",
              "\n",
              "    .colab-df-convert {\n",
              "      background-color: #E8F0FE;\n",
              "      border: none;\n",
              "      border-radius: 50%;\n",
              "      cursor: pointer;\n",
              "      display: none;\n",
              "      fill: #1967D2;\n",
              "      height: 32px;\n",
              "      padding: 0 0 0 0;\n",
              "      width: 32px;\n",
              "    }\n",
              "\n",
              "    .colab-df-convert:hover {\n",
              "      background-color: #E2EBFA;\n",
              "      box-shadow: 0px 1px 2px rgba(60, 64, 67, 0.3), 0px 1px 3px 1px rgba(60, 64, 67, 0.15);\n",
              "      fill: #174EA6;\n",
              "    }\n",
              "\n",
              "    [theme=dark] .colab-df-convert {\n",
              "      background-color: #3B4455;\n",
              "      fill: #D2E3FC;\n",
              "    }\n",
              "\n",
              "    [theme=dark] .colab-df-convert:hover {\n",
              "      background-color: #434B5C;\n",
              "      box-shadow: 0px 1px 3px 1px rgba(0, 0, 0, 0.15);\n",
              "      filter: drop-shadow(0px 1px 2px rgba(0, 0, 0, 0.3));\n",
              "      fill: #FFFFFF;\n",
              "    }\n",
              "  </style>\n",
              "\n",
              "      <script>\n",
              "        const buttonEl =\n",
              "          document.querySelector('#df-bd304866-e713-4fb0-90cc-68314e0bbc6f button.colab-df-convert');\n",
              "        buttonEl.style.display =\n",
              "          google.colab.kernel.accessAllowed ? 'block' : 'none';\n",
              "\n",
              "        async function convertToInteractive(key) {\n",
              "          const element = document.querySelector('#df-bd304866-e713-4fb0-90cc-68314e0bbc6f');\n",
              "          const dataTable =\n",
              "            await google.colab.kernel.invokeFunction('convertToInteractive',\n",
              "                                                     [key], {});\n",
              "          if (!dataTable) return;\n",
              "\n",
              "          const docLinkHtml = 'Like what you see? Visit the ' +\n",
              "            '<a target=\"_blank\" href=https://colab.research.google.com/notebooks/data_table.ipynb>data table notebook</a>'\n",
              "            + ' to learn more about interactive tables.';\n",
              "          element.innerHTML = '';\n",
              "          dataTable['output_type'] = 'display_data';\n",
              "          await google.colab.output.renderOutput(dataTable, element);\n",
              "          const docLink = document.createElement('div');\n",
              "          docLink.innerHTML = docLinkHtml;\n",
              "          element.appendChild(docLink);\n",
              "        }\n",
              "      </script>\n",
              "    </div>\n",
              "  </div>\n",
              "  "
            ]
          },
          "metadata": {},
          "execution_count": 2
        }
      ],
      "source": [
        "data = pd.read_parquet('weather-predict.parquet')\n",
        "data.head()"
      ]
    },
    {
      "cell_type": "code",
      "execution_count": null,
      "id": "73e3038f",
      "metadata": {
        "colab": {
          "base_uri": "https://localhost:8080/"
        },
        "id": "73e3038f",
        "outputId": "b34d3836-f2a9-4659-935d-4a0083174bd8"
      },
      "outputs": [
        {
          "output_type": "execute_result",
          "data": {
            "text/plain": [
              "96418"
            ]
          },
          "metadata": {},
          "execution_count": 3
        }
      ],
      "source": [
        "len(data)"
      ]
    },
    {
      "cell_type": "code",
      "execution_count": null,
      "id": "3e880dcf",
      "metadata": {
        "colab": {
          "base_uri": "https://localhost:8080/"
        },
        "id": "3e880dcf",
        "outputId": "c3ec6286-7184-4599-c232-e09a159de362"
      },
      "outputs": [
        {
          "output_type": "execute_result",
          "data": {
            "text/plain": [
              "(96418, 2)"
            ]
          },
          "metadata": {},
          "execution_count": 4
        }
      ],
      "source": [
        "data.shape"
      ]
    },
    {
      "cell_type": "markdown",
      "id": "3bec949d",
      "metadata": {
        "id": "3bec949d"
      },
      "source": [
        "## Step 2: Prepare\n",
        "- Explore data\n",
        "- Visualize ideas\n",
        "- Cleaning data"
      ]
    },
    {
      "cell_type": "markdown",
      "id": "6a5d948d",
      "metadata": {
        "id": "6a5d948d"
      },
      "source": [
        "### Step 2.a: Check the data types\n",
        "- This step tells you if some numeric column is not represented numeric.\n",
        "- Get the data types by ```.dtypes```"
      ]
    },
    {
      "cell_type": "code",
      "execution_count": null,
      "id": "58498943",
      "metadata": {
        "colab": {
          "base_uri": "https://localhost:8080/"
        },
        "id": "58498943",
        "outputId": "22e647da-12ca-4b3c-f02d-74b4ea4837b0"
      },
      "outputs": [
        {
          "output_type": "execute_result",
          "data": {
            "text/plain": [
              "Pressure        float64\n",
              "Pressure+24h    float64\n",
              "dtype: object"
            ]
          },
          "metadata": {},
          "execution_count": 5
        }
      ],
      "source": [
        "data.dtypes"
      ]
    },
    {
      "cell_type": "markdown",
      "id": "a1279c8b",
      "metadata": {
        "id": "a1279c8b"
      },
      "source": [
        "### Step 2.b: Check the length, null-values, and zero values\n",
        "- Check the length\n",
        "    - HINT: Use `len()`\n",
        "- Check the number of null-values\n",
        "    - HINT: Use `.isna().sum()`\n",
        "- Check the number of zero-values\n",
        "    - HINT: Use `(data == 0).sum()`"
      ]
    },
    {
      "cell_type": "code",
      "execution_count": null,
      "id": "26f51f73",
      "metadata": {
        "colab": {
          "base_uri": "https://localhost:8080/"
        },
        "id": "26f51f73",
        "outputId": "76606f9a-85e6-4f66-d537-e13405bd9d77"
      },
      "outputs": [
        {
          "output_type": "execute_result",
          "data": {
            "text/plain": [
              "(96418, 96380)"
            ]
          },
          "metadata": {},
          "execution_count": 6
        }
      ],
      "source": [
        "len(data), len(data.dropna())"
      ]
    },
    {
      "cell_type": "code",
      "execution_count": null,
      "id": "6cd27429",
      "metadata": {
        "colab": {
          "base_uri": "https://localhost:8080/"
        },
        "id": "6cd27429",
        "outputId": "0f2158e7-ac9e-4c89-aa99-461f18b27504"
      },
      "outputs": [
        {
          "output_type": "execute_result",
          "data": {
            "text/plain": [
              "Pressure         0\n",
              "Pressure+24h    38\n",
              "dtype: int64"
            ]
          },
          "metadata": {},
          "execution_count": 7
        }
      ],
      "source": [
        "data.isna().sum()"
      ]
    },
    {
      "cell_type": "code",
      "execution_count": null,
      "id": "bc66ba8d",
      "metadata": {
        "colab": {
          "base_uri": "https://localhost:8080/"
        },
        "id": "bc66ba8d",
        "outputId": "c892371a-049f-4e76-ef70-7eb8f5d3781f"
      },
      "outputs": [
        {
          "output_type": "execute_result",
          "data": {
            "text/plain": [
              "Pressure        1288\n",
              "Pressure+24h    1288\n",
              "dtype: int64"
            ]
          },
          "metadata": {},
          "execution_count": 8
        }
      ],
      "source": [
        "(data == 0).sum()"
      ]
    },
    {
      "cell_type": "markdown",
      "id": "4a8c0dd5",
      "metadata": {
        "id": "4a8c0dd5"
      },
      "source": [
        "### Step 2.c: Baseline\n",
        "- Check the correlation to have a measure if we did nothing\n",
        "    - HINT: Use `corr()`"
      ]
    },
    {
      "cell_type": "code",
      "execution_count": null,
      "id": "da60d8ff",
      "metadata": {
        "colab": {
          "base_uri": "https://localhost:8080/"
        },
        "id": "da60d8ff",
        "outputId": "347c1c1c-b709-4a65-d010-02be658ac404"
      },
      "outputs": [
        {
          "output_type": "execute_result",
          "data": {
            "text/plain": [
              "Pressure        1.000000\n",
              "Pressure+24h    0.419074\n",
              "Name: Pressure, dtype: float64"
            ]
          },
          "metadata": {},
          "execution_count": 9
        }
      ],
      "source": [
        "data.corr()['Pressure'].sort_values(ascending = False)"
      ]
    },
    {
      "cell_type": "markdown",
      "id": "31e0f5b7",
      "metadata": {
        "id": "31e0f5b7"
      },
      "source": [
        "### Step 2.d: Prepare data\n",
        "- We know `Pressure+24` has NaN and 0 values.\n",
        "- These are not correct values and we cannot use them in our model.\n",
        "- Create a `dataset` without these rows.\n",
        "    - HINT: Use filters like `data[data['Pressure+24h'] != 0]` and `dropna()`"
      ]
    },
    {
      "cell_type": "code",
      "execution_count": null,
      "id": "a69306c0",
      "metadata": {
        "id": "a69306c0"
      },
      "outputs": [],
      "source": [
        "dataset = data[data['Pressure+24h'] != 0].dropna()"
      ]
    },
    {
      "cell_type": "code",
      "source": [
        "len(dataset)"
      ],
      "metadata": {
        "colab": {
          "base_uri": "https://localhost:8080/"
        },
        "id": "brlhiyI-t8Vl",
        "outputId": "b5e3c39e-d3d4-4133-8984-a1877ac6d392"
      },
      "id": "brlhiyI-t8Vl",
      "execution_count": null,
      "outputs": [
        {
          "output_type": "execute_result",
          "data": {
            "text/plain": [
              "95092"
            ]
          },
          "metadata": {},
          "execution_count": 11
        }
      ]
    },
    {
      "cell_type": "markdown",
      "id": "d9b9ed0a",
      "metadata": {
        "id": "d9b9ed0a"
      },
      "source": [
        "### Step 2.e: Check the size and zero values\n",
        "- Check the size of datasets `data` and `datasets`\n",
        "- Check how many zero-values each dataset has"
      ]
    },
    {
      "cell_type": "code",
      "execution_count": null,
      "id": "56f9742c",
      "metadata": {
        "colab": {
          "base_uri": "https://localhost:8080/"
        },
        "id": "56f9742c",
        "outputId": "a6e360e0-3606-4d7a-dced-68fa4c6fe769"
      },
      "outputs": [
        {
          "output_type": "execute_result",
          "data": {
            "text/plain": [
              "(192836, 190184)"
            ]
          },
          "metadata": {},
          "execution_count": 12
        }
      ],
      "source": [
        "data.size, dataset.size"
      ]
    },
    {
      "cell_type": "markdown",
      "id": "6418c7fd",
      "metadata": {
        "id": "6418c7fd"
      },
      "source": [
        "### Step 2.f: Check the correlation\n",
        "- For fun check the correlation of `dataset`\n",
        "- Then do the same after you interpolated 0 values\n",
        "    - HINT: Apply `replace` and `interpolate`\n",
        "- Does the result surprice you?\n",
        "- Notice how much interpolation improves the result"
      ]
    },
    {
      "cell_type": "code",
      "execution_count": null,
      "id": "168fb7c1",
      "metadata": {
        "colab": {
          "base_uri": "https://localhost:8080/",
          "height": 112
        },
        "id": "168fb7c1",
        "outputId": "32749d1e-7fea-426a-af07-d9464798be86"
      },
      "outputs": [
        {
          "output_type": "execute_result",
          "data": {
            "text/plain": [
              "              Pressure  Pressure+24h\n",
              "Pressure      1.000000      0.083047\n",
              "Pressure+24h  0.083047      1.000000"
            ],
            "text/html": [
              "\n",
              "  <div id=\"df-6bb94d32-6703-46ef-ba1c-f91601d8528b\">\n",
              "    <div class=\"colab-df-container\">\n",
              "      <div>\n",
              "<style scoped>\n",
              "    .dataframe tbody tr th:only-of-type {\n",
              "        vertical-align: middle;\n",
              "    }\n",
              "\n",
              "    .dataframe tbody tr th {\n",
              "        vertical-align: top;\n",
              "    }\n",
              "\n",
              "    .dataframe thead th {\n",
              "        text-align: right;\n",
              "    }\n",
              "</style>\n",
              "<table border=\"1\" class=\"dataframe\">\n",
              "  <thead>\n",
              "    <tr style=\"text-align: right;\">\n",
              "      <th></th>\n",
              "      <th>Pressure</th>\n",
              "      <th>Pressure+24h</th>\n",
              "    </tr>\n",
              "  </thead>\n",
              "  <tbody>\n",
              "    <tr>\n",
              "      <th>Pressure</th>\n",
              "      <td>1.000000</td>\n",
              "      <td>0.083047</td>\n",
              "    </tr>\n",
              "    <tr>\n",
              "      <th>Pressure+24h</th>\n",
              "      <td>0.083047</td>\n",
              "      <td>1.000000</td>\n",
              "    </tr>\n",
              "  </tbody>\n",
              "</table>\n",
              "</div>\n",
              "      <button class=\"colab-df-convert\" onclick=\"convertToInteractive('df-6bb94d32-6703-46ef-ba1c-f91601d8528b')\"\n",
              "              title=\"Convert this dataframe to an interactive table.\"\n",
              "              style=\"display:none;\">\n",
              "        \n",
              "  <svg xmlns=\"http://www.w3.org/2000/svg\" height=\"24px\"viewBox=\"0 0 24 24\"\n",
              "       width=\"24px\">\n",
              "    <path d=\"M0 0h24v24H0V0z\" fill=\"none\"/>\n",
              "    <path d=\"M18.56 5.44l.94 2.06.94-2.06 2.06-.94-2.06-.94-.94-2.06-.94 2.06-2.06.94zm-11 1L8.5 8.5l.94-2.06 2.06-.94-2.06-.94L8.5 2.5l-.94 2.06-2.06.94zm10 10l.94 2.06.94-2.06 2.06-.94-2.06-.94-.94-2.06-.94 2.06-2.06.94z\"/><path d=\"M17.41 7.96l-1.37-1.37c-.4-.4-.92-.59-1.43-.59-.52 0-1.04.2-1.43.59L10.3 9.45l-7.72 7.72c-.78.78-.78 2.05 0 2.83L4 21.41c.39.39.9.59 1.41.59.51 0 1.02-.2 1.41-.59l7.78-7.78 2.81-2.81c.8-.78.8-2.07 0-2.86zM5.41 20L4 18.59l7.72-7.72 1.47 1.35L5.41 20z\"/>\n",
              "  </svg>\n",
              "      </button>\n",
              "      \n",
              "  <style>\n",
              "    .colab-df-container {\n",
              "      display:flex;\n",
              "      flex-wrap:wrap;\n",
              "      gap: 12px;\n",
              "    }\n",
              "\n",
              "    .colab-df-convert {\n",
              "      background-color: #E8F0FE;\n",
              "      border: none;\n",
              "      border-radius: 50%;\n",
              "      cursor: pointer;\n",
              "      display: none;\n",
              "      fill: #1967D2;\n",
              "      height: 32px;\n",
              "      padding: 0 0 0 0;\n",
              "      width: 32px;\n",
              "    }\n",
              "\n",
              "    .colab-df-convert:hover {\n",
              "      background-color: #E2EBFA;\n",
              "      box-shadow: 0px 1px 2px rgba(60, 64, 67, 0.3), 0px 1px 3px 1px rgba(60, 64, 67, 0.15);\n",
              "      fill: #174EA6;\n",
              "    }\n",
              "\n",
              "    [theme=dark] .colab-df-convert {\n",
              "      background-color: #3B4455;\n",
              "      fill: #D2E3FC;\n",
              "    }\n",
              "\n",
              "    [theme=dark] .colab-df-convert:hover {\n",
              "      background-color: #434B5C;\n",
              "      box-shadow: 0px 1px 3px 1px rgba(0, 0, 0, 0.15);\n",
              "      filter: drop-shadow(0px 1px 2px rgba(0, 0, 0, 0.3));\n",
              "      fill: #FFFFFF;\n",
              "    }\n",
              "  </style>\n",
              "\n",
              "      <script>\n",
              "        const buttonEl =\n",
              "          document.querySelector('#df-6bb94d32-6703-46ef-ba1c-f91601d8528b button.colab-df-convert');\n",
              "        buttonEl.style.display =\n",
              "          google.colab.kernel.accessAllowed ? 'block' : 'none';\n",
              "\n",
              "        async function convertToInteractive(key) {\n",
              "          const element = document.querySelector('#df-6bb94d32-6703-46ef-ba1c-f91601d8528b');\n",
              "          const dataTable =\n",
              "            await google.colab.kernel.invokeFunction('convertToInteractive',\n",
              "                                                     [key], {});\n",
              "          if (!dataTable) return;\n",
              "\n",
              "          const docLinkHtml = 'Like what you see? Visit the ' +\n",
              "            '<a target=\"_blank\" href=https://colab.research.google.com/notebooks/data_table.ipynb>data table notebook</a>'\n",
              "            + ' to learn more about interactive tables.';\n",
              "          element.innerHTML = '';\n",
              "          dataTable['output_type'] = 'display_data';\n",
              "          await google.colab.output.renderOutput(dataTable, element);\n",
              "          const docLink = document.createElement('div');\n",
              "          docLink.innerHTML = docLinkHtml;\n",
              "          element.appendChild(docLink);\n",
              "        }\n",
              "      </script>\n",
              "    </div>\n",
              "  </div>\n",
              "  "
            ]
          },
          "metadata": {},
          "execution_count": 13
        }
      ],
      "source": [
        "dataset.corr()"
      ]
    },
    {
      "cell_type": "code",
      "execution_count": null,
      "id": "038e178d",
      "metadata": {
        "colab": {
          "base_uri": "https://localhost:8080/",
          "height": 112
        },
        "id": "038e178d",
        "outputId": "e4541a42-3f6a-4299-cbac-2d85217a3157"
      },
      "outputs": [
        {
          "output_type": "execute_result",
          "data": {
            "text/plain": [
              "              Pressure  Pressure+24h\n",
              "Pressure       1.00000       0.79447\n",
              "Pressure+24h   0.79447       1.00000"
            ],
            "text/html": [
              "\n",
              "  <div id=\"df-f59377c3-7230-4027-a3fc-8840be75e6dd\">\n",
              "    <div class=\"colab-df-container\">\n",
              "      <div>\n",
              "<style scoped>\n",
              "    .dataframe tbody tr th:only-of-type {\n",
              "        vertical-align: middle;\n",
              "    }\n",
              "\n",
              "    .dataframe tbody tr th {\n",
              "        vertical-align: top;\n",
              "    }\n",
              "\n",
              "    .dataframe thead th {\n",
              "        text-align: right;\n",
              "    }\n",
              "</style>\n",
              "<table border=\"1\" class=\"dataframe\">\n",
              "  <thead>\n",
              "    <tr style=\"text-align: right;\">\n",
              "      <th></th>\n",
              "      <th>Pressure</th>\n",
              "      <th>Pressure+24h</th>\n",
              "    </tr>\n",
              "  </thead>\n",
              "  <tbody>\n",
              "    <tr>\n",
              "      <th>Pressure</th>\n",
              "      <td>1.00000</td>\n",
              "      <td>0.79447</td>\n",
              "    </tr>\n",
              "    <tr>\n",
              "      <th>Pressure+24h</th>\n",
              "      <td>0.79447</td>\n",
              "      <td>1.00000</td>\n",
              "    </tr>\n",
              "  </tbody>\n",
              "</table>\n",
              "</div>\n",
              "      <button class=\"colab-df-convert\" onclick=\"convertToInteractive('df-f59377c3-7230-4027-a3fc-8840be75e6dd')\"\n",
              "              title=\"Convert this dataframe to an interactive table.\"\n",
              "              style=\"display:none;\">\n",
              "        \n",
              "  <svg xmlns=\"http://www.w3.org/2000/svg\" height=\"24px\"viewBox=\"0 0 24 24\"\n",
              "       width=\"24px\">\n",
              "    <path d=\"M0 0h24v24H0V0z\" fill=\"none\"/>\n",
              "    <path d=\"M18.56 5.44l.94 2.06.94-2.06 2.06-.94-2.06-.94-.94-2.06-.94 2.06-2.06.94zm-11 1L8.5 8.5l.94-2.06 2.06-.94-2.06-.94L8.5 2.5l-.94 2.06-2.06.94zm10 10l.94 2.06.94-2.06 2.06-.94-2.06-.94-.94-2.06-.94 2.06-2.06.94z\"/><path d=\"M17.41 7.96l-1.37-1.37c-.4-.4-.92-.59-1.43-.59-.52 0-1.04.2-1.43.59L10.3 9.45l-7.72 7.72c-.78.78-.78 2.05 0 2.83L4 21.41c.39.39.9.59 1.41.59.51 0 1.02-.2 1.41-.59l7.78-7.78 2.81-2.81c.8-.78.8-2.07 0-2.86zM5.41 20L4 18.59l7.72-7.72 1.47 1.35L5.41 20z\"/>\n",
              "  </svg>\n",
              "      </button>\n",
              "      \n",
              "  <style>\n",
              "    .colab-df-container {\n",
              "      display:flex;\n",
              "      flex-wrap:wrap;\n",
              "      gap: 12px;\n",
              "    }\n",
              "\n",
              "    .colab-df-convert {\n",
              "      background-color: #E8F0FE;\n",
              "      border: none;\n",
              "      border-radius: 50%;\n",
              "      cursor: pointer;\n",
              "      display: none;\n",
              "      fill: #1967D2;\n",
              "      height: 32px;\n",
              "      padding: 0 0 0 0;\n",
              "      width: 32px;\n",
              "    }\n",
              "\n",
              "    .colab-df-convert:hover {\n",
              "      background-color: #E2EBFA;\n",
              "      box-shadow: 0px 1px 2px rgba(60, 64, 67, 0.3), 0px 1px 3px 1px rgba(60, 64, 67, 0.15);\n",
              "      fill: #174EA6;\n",
              "    }\n",
              "\n",
              "    [theme=dark] .colab-df-convert {\n",
              "      background-color: #3B4455;\n",
              "      fill: #D2E3FC;\n",
              "    }\n",
              "\n",
              "    [theme=dark] .colab-df-convert:hover {\n",
              "      background-color: #434B5C;\n",
              "      box-shadow: 0px 1px 3px 1px rgba(0, 0, 0, 0.15);\n",
              "      filter: drop-shadow(0px 1px 2px rgba(0, 0, 0, 0.3));\n",
              "      fill: #FFFFFF;\n",
              "    }\n",
              "  </style>\n",
              "\n",
              "      <script>\n",
              "        const buttonEl =\n",
              "          document.querySelector('#df-f59377c3-7230-4027-a3fc-8840be75e6dd button.colab-df-convert');\n",
              "        buttonEl.style.display =\n",
              "          google.colab.kernel.accessAllowed ? 'block' : 'none';\n",
              "\n",
              "        async function convertToInteractive(key) {\n",
              "          const element = document.querySelector('#df-f59377c3-7230-4027-a3fc-8840be75e6dd');\n",
              "          const dataTable =\n",
              "            await google.colab.kernel.invokeFunction('convertToInteractive',\n",
              "                                                     [key], {});\n",
              "          if (!dataTable) return;\n",
              "\n",
              "          const docLinkHtml = 'Like what you see? Visit the ' +\n",
              "            '<a target=\"_blank\" href=https://colab.research.google.com/notebooks/data_table.ipynb>data table notebook</a>'\n",
              "            + ' to learn more about interactive tables.';\n",
              "          element.innerHTML = '';\n",
              "          dataTable['output_type'] = 'display_data';\n",
              "          await google.colab.output.renderOutput(dataTable, element);\n",
              "          const docLink = document.createElement('div');\n",
              "          docLink.innerHTML = docLinkHtml;\n",
              "          element.appendChild(docLink);\n",
              "        }\n",
              "      </script>\n",
              "    </div>\n",
              "  </div>\n",
              "  "
            ]
          },
          "metadata": {},
          "execution_count": 14
        }
      ],
      "source": [
        "dataset.replace(0, np.nan).interpolate().corr()"
      ]
    },
    {
      "cell_type": "markdown",
      "id": "0db0631e",
      "metadata": {
        "id": "0db0631e"
      },
      "source": [
        "### Step 2.g: Linear Regression Function\n",
        "- Create function `regression_score` to calculate the r-square score\n",
        "- It should take independent features X and dependent feature y\n",
        "- Then split that into training and testing sets.\n",
        "- Fit the training set.\n",
        "- Predict the test set.\n",
        "- Return the r-square score"
      ]
    },
    {
      "cell_type": "code",
      "execution_count": null,
      "id": "c4f4d05f",
      "metadata": {
        "id": "c4f4d05f"
      },
      "outputs": [],
      "source": [
        "def regression_score(X,y):\n",
        "  X_train, X_test, y_train, y_test = train_test_split(X, y, test_size = 0.2, random_state = 42)\n",
        "  lin = LinearRegression()\n",
        "  lin.fit(X_train, y_train)\n",
        "  y_pred = lin.predict(X_test)\n",
        "  return r2_score(y_pred, y_test)"
      ]
    },
    {
      "cell_type": "markdown",
      "id": "5d608e81",
      "metadata": {
        "id": "5d608e81"
      },
      "source": [
        "### Step 2.h: Test baseline\n",
        "- Test the `regression_score` function on `dataset`"
      ]
    },
    {
      "cell_type": "code",
      "execution_count": null,
      "id": "5c40b440",
      "metadata": {
        "colab": {
          "base_uri": "https://localhost:8080/"
        },
        "id": "5c40b440",
        "outputId": "d7a59aae-2032-41b6-db33-a204f960f193"
      },
      "outputs": [
        {
          "output_type": "execute_result",
          "data": {
            "text/plain": [
              "-152.7581067291715"
            ]
          },
          "metadata": {},
          "execution_count": 16
        }
      ],
      "source": [
        "regression_score(dataset[['Pressure']], dataset['Pressure+24h'])"
      ]
    },
    {
      "cell_type": "markdown",
      "id": "cf6f27ff",
      "metadata": {
        "id": "cf6f27ff"
      },
      "source": [
        "### Step 2.i: Test on interploated dataset\n",
        "- Make a interpolated dataset\n",
        "- Get the result (from `regression_score`) for interpolated dataset"
      ]
    },
    {
      "cell_type": "code",
      "execution_count": null,
      "id": "c197a667",
      "metadata": {
        "colab": {
          "base_uri": "https://localhost:8080/"
        },
        "id": "c197a667",
        "outputId": "b6f2ac1b-aaf5-44ca-bdf8-bd3aa69b88fb"
      },
      "outputs": [
        {
          "output_type": "execute_result",
          "data": {
            "text/plain": [
              "0.4042254234015955"
            ]
          },
          "metadata": {},
          "execution_count": 21
        }
      ],
      "source": [
        "dataset_interpolated = dataset.replace(0, np.nan).interpolate()\n",
        "\n",
        "regression_score(dataset_interpolated[['Pressure']], dataset_interpolated['Pressure+24h'])"
      ]
    },
    {
      "cell_type": "code",
      "source": [],
      "metadata": {
        "id": "O1C8uFqdzif4"
      },
      "id": "O1C8uFqdzif4",
      "execution_count": null,
      "outputs": []
    }
  ],
  "metadata": {
    "kernelspec": {
      "display_name": "Python 3 (ipykernel)",
      "language": "python",
      "name": "python3"
    },
    "language_info": {
      "codemirror_mode": {
        "name": "ipython",
        "version": 3
      },
      "file_extension": ".py",
      "mimetype": "text/x-python",
      "name": "python",
      "nbconvert_exporter": "python",
      "pygments_lexer": "ipython3",
      "version": "3.9.10"
    },
    "colab": {
      "provenance": [],
      "include_colab_link": true
    }
  },
  "nbformat": 4,
  "nbformat_minor": 5
}